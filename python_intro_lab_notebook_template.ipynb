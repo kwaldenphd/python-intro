{
  "nbformat": 4,
  "nbformat_minor": 0,
  "metadata": {
    "colab": {
      "provenance": [],
      "toc_visible": true,
      "authorship_tag": "ABX9TyNcEB+EMnNSoTSGLwTGXfwK",
      "include_colab_link": true
    },
    "kernelspec": {
      "name": "python3",
      "display_name": "Python 3"
    },
    "language_info": {
      "name": "python"
    }
  },
  "cells": [
    {
      "cell_type": "markdown",
      "metadata": {
        "id": "view-in-github",
        "colab_type": "text"
      },
      "source": [
        "<a href=\"https://colab.research.google.com/github/kwaldenphd/python-intro/blob/main/python_intro_lab_notebook_template.ipynb\" target=\"_parent\"><img src=\"https://colab.research.google.com/assets/colab-badge.svg\" alt=\"Open In Colab\"/></a>"
      ]
    },
    {
      "cell_type": "markdown",
      "source": [
        "# Python Fundamentals (basic syntax and data types)"
      ],
      "metadata": {
        "id": "7MzhNm9Tt6d3"
      }
    },
    {
      "cell_type": "markdown",
      "metadata": {
        "id": "ff876fb9"
      },
      "source": [
        "Student Name: **Enter Your Name Here (Double click to edit)**\n",
        "<br>\n",
        "Net ID: **Enter Your NetID Here (Double click to edit)**\n",
        "<br>"
      ]
    },
    {
      "cell_type": "markdown",
      "source": [
        "## Lab Notebook Questions"
      ],
      "metadata": {
        "id": "tQARbhvayCrm"
      }
    },
    {
      "cell_type": "markdown",
      "source": [
        "### **Q1: Create a named variable for each of the following data types.**\n",
        "- Integer\n",
        "- Float\n",
        "- String\n",
        "- Boolean\n",
        "\n",
        "**Show the value of each variable using `print()` and check the type of each variable using `type()`.**\n",
        "\n",
        "**Answer to this question includes program + comments that document process and explain your code.**"
      ],
      "metadata": {
        "id": "GQ3mEJk4yDxu"
      }
    },
    {
      "cell_type": "markdown",
      "metadata": {
        "id": "L0cFnREpis-5"
      },
      "source": [
        "**AnswerQ1**: Your answer here (double click to edit)"
      ]
    },
    {
      "cell_type": "code",
      "execution_count": null,
      "metadata": {
        "id": "wjpNfQDOis-8"
      },
      "outputs": [],
      "source": [
        "# your codes here (double click to edit)"
      ]
    },
    {
      "cell_type": "markdown",
      "source": [
        "### **Q2: Write programs (or a single program) that use each of the following arithmetic operators.**\n",
        "- Addition\n",
        "- Subtraction\n",
        "- Multiplication\n",
        "- Division\n",
        "- Modulus\n",
        "- Exponents\n",
        "\n",
        "**You can write separate calculations with single operators, or calculations that use multiple operators.**\n",
        "\n",
        "**Answer to this question includes program + comments that document process and explain your code.**"
      ],
      "metadata": {
        "id": "rSVVrPmLdoQ0"
      }
    },
    {
      "cell_type": "markdown",
      "metadata": {
        "id": "WHnSU_Odis_B"
      },
      "source": [
        "**AnswerQ2**: Your answer here (double click to edit)"
      ]
    },
    {
      "cell_type": "code",
      "execution_count": null,
      "metadata": {
        "id": "Sy1uBF67dwr9"
      },
      "outputs": [],
      "source": [
        "# your codes here (double click to edit)"
      ]
    },
    {
      "cell_type": "markdown",
      "source": [
        "### **Q3: Write a program that uses arithmetic operators to convert a specific Farenheit temperature value and output its Celsius representation. Answer to this question includes program + comments that document process and explain your code.**\n",
        "\n",
        "<blockquote>The conversion equation is: <code>celsius = (fahrenheit - 32.0) * 5.0 / 9.0</code></blockquote>"
      ],
      "metadata": {
        "id": "tlyglUlFdziu"
      }
    },
    {
      "cell_type": "markdown",
      "metadata": {
        "id": "mB-kFikxis_I"
      },
      "source": [
        "**AnswerQ3:** Your answer here (double click to edit)"
      ]
    },
    {
      "cell_type": "code",
      "execution_count": null,
      "metadata": {
        "id": "r_wK6Djjd3TQ"
      },
      "outputs": [],
      "source": [
        "# your codes here (double click to edit)"
      ]
    },
    {
      "cell_type": "markdown",
      "source": [
        "### **Q4: Write a program that creates `first_name` and `last_name` variables, and then uses concatenation to output a `full_name` variable. Answer to this question includes program + comments that document process and explain your code.**"
      ],
      "metadata": {
        "id": "CiOWXl-jd_xb"
      }
    },
    {
      "cell_type": "markdown",
      "metadata": {
        "id": "Cf3iN_D7is_N"
      },
      "source": [
        "**AnswerQ4:** Your answer here (double click to edit)"
      ]
    },
    {
      "cell_type": "code",
      "execution_count": null,
      "metadata": {
        "id": "9lT7urowd9w3"
      },
      "outputs": [],
      "source": [
        "# your codes here (double click to edit)"
      ]
    },
    {
      "cell_type": "markdown",
      "source": [
        "### **Q5: Create variables for each of the discrete pieces of information in \"the standard Notre Dame introduction.\"**\n",
        "- Name\n",
        "- Class year\n",
        "- Home state/country\n",
        "- Major(s) / minor(s)\n",
        "- Residence hall\n",
        "\n",
        "**Use concatenation in combination with a `print()` statement to output a narrative introduction using the named variables.**\n",
        "\n",
        "**Answer to this question includes program + comments that document process and explain your code.**\n",
        "\n",
        "Sample output for this program:\n",
        "```\n",
        "I'm Knute Rockne, class of 1914. I'm majoring in pharmacy and originally from Norway but grew up in Chicago. I live in Sorin Hall.\n",
        "```"
      ],
      "metadata": {
        "id": "q5uFjy0vd_py"
      }
    },
    {
      "cell_type": "markdown",
      "metadata": {
        "id": "ZvxkdANDis_S"
      },
      "source": [
        "**AnswerQ5:** Your answer here (double click to edit)"
      ]
    },
    {
      "cell_type": "code",
      "execution_count": null,
      "metadata": {
        "id": "nxu7IMDYeGM9"
      },
      "outputs": [],
      "source": [
        "# your codes here (double click to edit)"
      ]
    },
    {
      "cell_type": "markdown",
      "source": [
        "### **Q6: Write a program that asks the user to enter their favorite color, and then prints a `\"Your favorite color is...\"` message. Answer to this question includes program + comments that document process and explain your code.**"
      ],
      "metadata": {
        "id": "OSPX87wveKUV"
      }
    },
    {
      "cell_type": "markdown",
      "metadata": {
        "id": "3BAA-_Vyis_X"
      },
      "source": [
        "**AnswerQ6:** Your answer here (double click to edit)"
      ]
    },
    {
      "cell_type": "code",
      "execution_count": null,
      "metadata": {
        "id": "bmG50c8VeI5E"
      },
      "outputs": [],
      "source": [
        "# your codes here (double click to edit)"
      ]
    },
    {
      "cell_type": "markdown",
      "source": [
        "### **Q7: Write a program that accepts user input for the discrete pieces of information in \"the standard Notre Dame introduction.\"**\n",
        "- Name\n",
        "- Class year\n",
        "- Home state/country\n",
        "- Major(s) / minor(s)\n",
        "- Residence hall\n",
        "\n",
        "**Use concatenation in combination with a `print()` statement to output a narrative introduction using the named variables.**\n",
        "\n",
        "**Answer to this question includes program + comments that document process and explain your code.**\n",
        "\n",
        "Sample output for this program:\n",
        "```\n",
        "Knute Rockne, class of 1918, is majoring in pharmacy. He is originally from Norway but grew up in Chicago. He lives in Sorin Hall.\n",
        "```"
      ],
      "metadata": {
        "id": "RTGuR4UPeOJS"
      }
    },
    {
      "cell_type": "markdown",
      "metadata": {
        "id": "hcRpdIN_is_b"
      },
      "source": [
        "**AnswerQ7:** Your answer here (double click to edit)"
      ]
    },
    {
      "cell_type": "code",
      "execution_count": null,
      "metadata": {
        "id": "LDo0h7yseMCV"
      },
      "outputs": [],
      "source": [
        "# your codes here (double click to edit)"
      ]
    },
    {
      "cell_type": "markdown",
      "source": [
        "### **Q8: Write a program that prompts the user to enter two numbers, converts the input values to integers, adds them, and reports the result. Answer to this question includes program + comments that document process and explain your code.**"
      ],
      "metadata": {
        "id": "JxG6oWzheTMe"
      }
    },
    {
      "cell_type": "markdown",
      "metadata": {
        "id": "tihNYy4uis_c"
      },
      "source": [
        "**AnswerQ8:** Your answer here (double click to edit)"
      ]
    },
    {
      "cell_type": "code",
      "execution_count": null,
      "metadata": {
        "id": "izz2BIt-eSTE"
      },
      "outputs": [],
      "source": [
        "# your codes here (double click to edit)"
      ]
    },
    {
      "cell_type": "markdown",
      "source": [
        "### **Q9: Write a program that asks the user to think of a month and then enter the number of days in that month. Your program should then compute the number of minutes in the month, and report the result. Answer to this question includes program + comments that document process and explain your code.**"
      ],
      "metadata": {
        "id": "nGa_u0yheVtI"
      }
    },
    {
      "cell_type": "markdown",
      "metadata": {
        "id": "SEFRnAoNis_f"
      },
      "source": [
        "**AnswerQ9:** Your answer here (double click to edit)"
      ]
    },
    {
      "cell_type": "code",
      "execution_count": null,
      "metadata": {
        "id": "PwXRxCe0eUpT"
      },
      "outputs": [],
      "source": [
        "# your codes here (double click to edit)"
      ]
    },
    {
      "cell_type": "markdown",
      "source": [
        "### **Q10: Write a program that prompts the user to enter a temperature in Fahrenheit, and reports the equivalent temperature in Celsius. Answer to this question includes program + comments that document process and explain your code.**"
      ],
      "metadata": {
        "id": "jeboup8BeXdt"
      }
    },
    {
      "cell_type": "markdown",
      "metadata": {
        "id": "yNYGMUIHenNC"
      },
      "source": [
        "**AnswerQ10:** Your answer here (double click to edit)"
      ]
    },
    {
      "cell_type": "code",
      "execution_count": null,
      "metadata": {
        "id": "mXYePnBLec-U"
      },
      "outputs": [],
      "source": [
        "# your codes here (double click to edit)"
      ]
    },
    {
      "cell_type": "markdown",
      "source": [
        "### **Q11: Write a program that uses each of Python's comparison operators (`==, !=, >, <, >=, <=`) to compare two numeric values. Answer to this question includes program + comments that document process and explain your code.**"
      ],
      "metadata": {
        "id": "o9-DWczVeZHb"
      }
    },
    {
      "cell_type": "markdown",
      "metadata": {
        "id": "Og1VhGC-engC"
      },
      "source": [
        "**AnswerQ11:** Your answer here (double click to edit)"
      ]
    },
    {
      "cell_type": "code",
      "execution_count": null,
      "metadata": {
        "id": "D_cHf0BHedMJ"
      },
      "outputs": [],
      "source": [
        "# outline for this program\n",
        "\n",
        "# first numeric vlaue\n",
        "\n",
        "# second numeric value\n",
        "\n",
        "# equal\n",
        "\n",
        "# not equal\n",
        "\n",
        "# greater than\n",
        "\n",
        "# less than\n",
        "\n",
        "# greater than or equal to\n",
        "\n",
        "# less than or equal to\n"
      ]
    },
    {
      "cell_type": "markdown",
      "source": [
        "### **Q12: Write a program that uses each of Python's comparison operators (`==, !=, >, <, >=, <=`) to compare two string objects. Answer to this question includes program + comments that document process and explain your code.**"
      ],
      "metadata": {
        "id": "WDq4-c64eaz4"
      }
    },
    {
      "cell_type": "markdown",
      "metadata": {
        "id": "0wTZ2G6YenzJ"
      },
      "source": [
        "**AnswerQ12:** Your answer here (double click to edit)"
      ]
    },
    {
      "cell_type": "code",
      "execution_count": null,
      "metadata": {
        "id": "1TJ3aRZXedaE"
      },
      "outputs": [],
      "source": [
        "# outline for this program\n",
        "\n",
        "# first string object\n",
        "\n",
        "# second string object\n",
        "\n",
        "# equal\n",
        "\n",
        "# not equal\n",
        "\n",
        "# greater than\n",
        "\n",
        "# less than\n",
        "\n",
        "# greater than or equal to\n",
        "\n",
        "# less than or equal to\n"
      ]
    },
    {
      "cell_type": "markdown",
      "source": [
        "### **Q13: Write a program that uses Python's comparison operators (`==, !=, >, <, >=, <=`) to compare at least three (3) numeric values. Answer to this question includes program + comments that document process and explain your code.**"
      ],
      "metadata": {
        "id": "kTXcQlO_1YU5"
      }
    },
    {
      "cell_type": "markdown",
      "metadata": {
        "id": "Ax4bXWegen_y"
      },
      "source": [
        "**AnswerQ13:** Your answer here (double click to edit)"
      ]
    },
    {
      "cell_type": "code",
      "execution_count": null,
      "metadata": {
        "id": "w7j2WeOWedrF"
      },
      "outputs": [],
      "source": [
        "# outline for this program\n",
        "\n",
        "# first numeric value\n",
        "\n",
        "# second numeric value\n",
        "\n",
        "# third numeric value\n",
        "\n",
        "# complex comparison statement\n"
      ]
    },
    {
      "cell_type": "markdown",
      "source": [
        "### **Q14: Write a program that uses Python's comparison operators (`==, !=, >, <, >=, <=`) to compare at least three (3) string objects. Answer to this question includes program + comments that document process and explain your code.**"
      ],
      "metadata": {
        "id": "LCWp4Obm1L-_"
      }
    },
    {
      "cell_type": "markdown",
      "metadata": {
        "id": "qJjPmQiQ1fxY"
      },
      "source": [
        "**AnswerQ14:** Your answer here (double click to edit)"
      ]
    },
    {
      "cell_type": "code",
      "execution_count": null,
      "metadata": {
        "id": "AO0c5uEZ1g1L"
      },
      "outputs": [],
      "source": [
        "# outline for this program\n",
        "\n",
        "# first string object\n",
        "\n",
        "# second string object\n",
        "\n",
        "# third string object\n",
        "\n",
        "# complex comparison statement\n"
      ]
    }
  ]
}