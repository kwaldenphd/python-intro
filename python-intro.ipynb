{
 "cells": [
  {
   "cell_type": "markdown",
   "metadata": {},
   "source": [
    "# Getting Started With Python (basic syntax & data types)\n",
    "\n",
    "<a href=\"http://creativecommons.org/licenses/by-nc/4.0/\" rel=\"license\"><img style=\"border-width: 0;\" src=\"https://i.creativecommons.org/l/by-nc/4.0/88x31.png\" alt=\"Creative Commons License\" /></a>\n",
    "This tutorial is licensed under a <a href=\"http://creativecommons.org/licenses/by-nc/4.0/\" rel=\"license\">Creative Commons Attribution-NonCommercial 4.0 International License</a>.\n",
    "\n",
    "## Lab Objectives\n",
    "\n",
    "By the end of this lab you will be able to:\n",
    "-\tDescribe the differences between a high-level programming language and machine language\n",
    "-\tUse Repl.it (or another IDE) to write and execute Python programs\n",
    "-\tUnderstand and be able to use core elements of Python syntax (including the `print` command, character strings, and variables)\n",
    "\n",
    "Python is an object-oriented programming language. It’s comparable to a number of other programming languages, such as Perl, Ruby, or Java. Python is a high-level programming language.\n",
    "\n",
    "## Acknowledgements\n",
    "\n",
    "This lab is based on the [\"Lab: Programming in Python\"](https://www.cs.grinnell.edu/~davisjan/csc/105/2012S/labs/python1.html) and [\"Lab: Numbers in Python\"](https://www.cs.grinnell.edu/~davisjan/csc/105/2012S/labs/python2.html) lab materials developed by [Janet Davis](https://cs.whitman.edu/~davisj/) for the the [CSC 105 \"The Digital Age\" course](https://www.cs.grinnell.edu/~davisjan/csc/105/2012S/). \n",
    "\n",
    "### Programming in Python\n",
    "\n",
    "- Written: Marge M. Coahran, February 2008\n",
    "- Revised: Jerod Weinman, 2 January 2009\n",
    "- Revised: Jerod Weinman, 24 February 2011\n",
    "- Revised: Janet Davis, 6 March 2012\n",
    "- Adopted from: [CSC105: Programming in Python](http://www.cs.grinnell.edu/%7Ecoahranm/csc105/labs/python1.html)\n",
    "- Copyright © 2009-2012 Marge Coahran, Jerod Weinman, and Janet Davis.\n",
    "- This work is licensed under a [Creative Commons Attribution-Noncommercial-Share Alike 3.0 United States License](http://creativecommons.org/licenses/by-nc-sa/3.0/us/).\n",
    "\n",
    "### Numbers in Python\n",
    "- Written: Marge M. Coahran, February 2008\n",
    "- Revised: Jerod Weinman, 2 January 2009\n",
    "- Revised: Jerod Weinman, 25 February 2011\n",
    "- Revised: Janet Davis, 9 March 2012\n",
    "- Adopted from: [CSC105: Programming in Python (Numbers)](http://www.cs.grinnell.edu/%7Ecoahranm/csc105/labs/python2.html)\n",
    "- Copyright © 2009-2012 Marge Coahran, Jerod Weinman, and Janet Davis.\n",
    "- This work is licensed under a [Creative Commons Attribution-Noncommercial-Share Alike 3.0 United States License](http://creativecommons.org/licenses/by-nc-sa/3.0/us/).\n",
    "\n",
    "This lab also incorporates elements of [Corey Pennycuff's](https://www3.nd.edu/~cpennycu/) [\"Intro to Python/Jupyter\" Jupyter notebook](https://www3.nd.edu/~cpennycu/2019/assets/fall/EOC/19.08.29.ipynb) from [CSE 10101 Elements of Computing (Fall 2019)](https://www3.nd.edu/~cpennycu/2019/fa-CSE10101-CDT30010.html).\n",
    "\n",
    "# Table of Contents\n",
    "- [How to submit this lab (and show your work)](#how-to-submit-this-lab-and-show-your-work)\n",
    "- [Your First Program](#your-first-program)\n",
    "- [Print Statements & ASCII Art](#print-statements--ascii-art)\n",
    "- [Data Types](#data-types)\n",
    "  * [Comments](#comments)\n",
    "  * [Variables and Types](#variables-and-types)\n",
    "  * [Numbers](#numbers)\n",
    "  * [Strings](#strings)\n",
    "  * [Boolean Operators](#boolean-operators)\n",
    "  * [Arithmetic Operators](#arithmetic-operators)\n",
    "- [Character Strings and Variables](#character-strings-and-variables)\n",
    "  * [User-defined inputs](#user-defined-inputs)\n",
    "  * [Additional exercises](#additional-exercises)\n",
    "- [Lab Notebook Questions](#lab-notebook-questions)\n",
    "\n",
    "# How to submit this lab (and show your work)\n",
    "\n",
    "Moving forward, we'll submit lab notebooks as `.py` files. \n",
    "\n",
    "One option is to have a `.py` file that you use to run code and test programs while working through the lab. When ready to submit the lab notebook, you add comments and remove extraneous materials.\n",
    "\n",
    "Another option is to have an \"official\" `.py` file that you are using as a lab notebook (separate from your working/testing file). Use comments in Python to note when you are starting a new question (as well as answering a question).\n",
    "  * Example: `Lab5_Notebook_Walden.py`\n",
    "\n",
    "What gets submitted as the lab notebook is the `Lab5_Notebook_Walden.py` file.\n",
    "- When in doubt, use comments\n",
    "- Be sure you are using comments to note what question you're responding to\n",
    "\n",
    "# Your First Program\n",
    "\n",
    "1. Your first program will contain a single Python statement. Enter the following statement into a new `.py` file (when working in Replit, this could be the `main.py` file). \n",
    "\n",
    "<blockquote>Watch out for quotation marks!</blockquote>"
   ]
  },
  {
   "cell_type": "code",
   "execution_count": null,
   "metadata": {},
   "outputs": [],
   "source": [
    "print (\"Welcome to the wild world of computer programming!\")"
   ]
  },
  {
   "cell_type": "markdown",
   "metadata": {},
   "source": [
    "2. Save your work as part of the `main.py`. \n",
    "\n",
    "<blockquote>When adding new files in Repl.it or writing a Python program from scratch either in a text editor or in a desktop Python IDE, be sure to include the <code>.py</code> file extension, which specifies your file is a Python program.</blockquote>\n",
    "\n",
    "3. As we discovered in the HTML and CSS lab, one of the features of an IDE is that syntax highlighting, which recognizes the language you are writing in and uses color/font highlighting to visually help you write and understand programs.\n",
    "\n",
    "4. Run your first program in the Replit terminal window, using the following command: `python main.py`. You can also run the program using \"Run\"\n",
    "\n",
    "5. The `print()` function will output the value passed to it, including a string. \n",
    "\n",
    "<blockquote>NOTE: If you've previously worked in Python 2, the way Python 3 deals with strings is very different. Consult <a href=\"https://docs.python.org/3.7/library/string.html#format-string-syntax\">Python documentation</a> if needed.</blockquote>"
   ]
  },
  {
   "cell_type": "markdown",
   "metadata": {},
   "source": [
    "<blockquote>Q1: What do you expect to see when you run the <code>main.py</code> program? How does that compare to what happened when you ran the program?</blockquote>"
   ]
  },
  {
   "cell_type": "markdown",
   "metadata": {},
   "source": [
    "# Print Statements & ASCII Art\n",
    "\n",
    "5. Add a second print statement to your `main.py` program:"
   ]
  },
  {
   "cell_type": "code",
   "execution_count": null,
   "metadata": {},
   "outputs": [],
   "source": [
    "print(\"Are we having fun yet?\")"
   ]
  },
  {
   "cell_type": "markdown",
   "metadata": {},
   "source": [
    "6. Save your program, and run it in the terminal window.\n",
    "\n",
    "7. Modify your program to include additional lines of text in your output. Note that you can use any punctuation or printable symbol on the keyboard.\n",
    "\n",
    "8. Start a new file in your repl (remember the `.py` file extension!) to start writing a new program `figure.py`.\n",
    "\n",
    "9. In your new file, write a program that draws a figure similar to the one below, using a set of `print` commands."
   ]
  },
  {
   "cell_type": "raw",
   "metadata": {},
   "source": [
    "           * *\n",
    "          *   *\n",
    "           * *\n",
    "            *\n",
    "          * * *\n",
    "         *  *  *\n",
    "        *   *   *\n",
    "            *\n",
    "          *   *\n",
    "         *     *\n",
    "        *       *\n",
    "       *         *\n",
    "      *           *"
   ]
  },
  {
   "cell_type": "markdown",
   "metadata": {},
   "source": [
    "<blockquote>This kind of drawing is called \"ASCII Art\" since it is made solely with characters in the ASCII character set.</blockquote>\n",
    "\n",
    "10. Run the `figure.py` program in the terminal.\n",
    "\n",
    "11. Modify the `figure.py` file to write a program in which you draw your own ASCII art using Python `print` statements. \n",
    "\n",
    "<blockquote>Consult the <a href=\"https://www.asciiart.eu/\">ASCII Art Archive</a> for inspiration.</blockquote>\n"
   ]
  },
  {
   "cell_type": "markdown",
   "metadata": {},
   "source": [
    "<blockquote>Q2: Describe your experience and process building your own ASCII art. How did you approach the design process? What challenges did you encounter? Include your code as part of this answer.</blockquote>"
   ]
  },
  {
   "cell_type": "markdown",
   "metadata": {},
   "source": [
    "# Data Types \n",
    "\n",
    "11. Python includes a number of different data types, which can be stored as variables.\n",
    "\n",
    "12. We'll do more with variables later, but for now...\n",
    "\n",
    "## Comments"
   ]
  },
  {
   "cell_type": "raw",
   "metadata": {},
   "source": [
    "# From Professor Walden: The text of this comment about comments is taken from one of Corey Penneycuff's Elements of Computing I Jupyter notebooks\n",
    "\n",
    "# I am a comment\n",
    "\n",
    "'''\n",
    "I am a multi-line comment.\n",
    "I'm not really a \"comment\" per-se, but Python does not support\n",
    "multi-line comments, so I'm the best that you get.\n",
    "If I'm not really a comment, then what am I?  Well, I'm actually\n",
    "a multi-line string that Python evaluates, and then ignores,\n",
    "because nothing is being done with the string.\n",
    "'''\n",
    "\n",
    "# The only alternative is to put a pound at the beginning of each line.\n",
    "# This is a pound sign --> #\n",
    "# No, it's not a \"hashtag\".\n",
    "# It was called \"pound\" LONG before \"hashtag\" was even though about...\n",
    "# by about a century!"
   ]
  },
  {
   "cell_type": "markdown",
   "metadata": {},
   "source": [
    "## Variables and Types\n",
    "\n",
    "13. What are variables in Python?\n",
    "- Variables are a \"storage location\" for holding some value which can be used by a Python script\n",
    "- A variable's contents are referred to as its \"data\"\n",
    "- All data has some \"type\" associated with it\n",
    "- We're focusing on a few key data types, but there are <bold>many</bold> different types of data in Python.\n",
    "  * Consult the [Python.org documentation on data types](https://docs.python.org/3/library/datatypes.html) to learn more.\n",
    "  \n",
    "14. For each of these examples, copy/paste or retype the code to run each mini program (and learn more about Python's functionality and documentation). Experiment, adapt, or modify these samples as you work through the lab procedure.\n",
    "\n",
    "## Numbers\n",
    "\n",
    "15. An integer is a whole number that does not include any decimal (or fractional) values. A float data type includes decimal (or fractional) values."
   ]
  },
  {
   "cell_type": "code",
   "execution_count": null,
   "metadata": {},
   "outputs": [],
   "source": [
    "# Numbers: Int and Float\n",
    "i = 3\n",
    "print(\"i is of type: \", type(i))\n",
    "j = 3.0\n",
    "print(\"j is of type: \", type(j))"
   ]
  },
  {
   "cell_type": "markdown",
   "metadata": {},
   "source": [
    "<blockquote>It may seem odd at first, but in Python, the \"equals sign\" here does not denote equality. Rather, it is an instruction telling Python to assign the value on its right into the variable on its left.</blockquote>\n",
    "\n",
    "16. But Python variables can also change their type..."
   ]
  },
  {
   "cell_type": "code",
   "execution_count": null,
   "metadata": {},
   "outputs": [],
   "source": [
    "# variable type...can vary\n",
    "i = 3\n",
    "print(\"i is of type: \", type(i))\n",
    "i = i + .5\n",
    "print(\"i is of type: \", type(i))"
   ]
  },
  {
   "cell_type": "markdown",
   "metadata": {},
   "source": [
    "## Strings\n",
    "\n",
    "17. A string is a sequence of characters (letters, numbers, symbols, etc.)"
   ]
  },
  {
   "cell_type": "code",
   "execution_count": null,
   "metadata": {},
   "outputs": [],
   "source": [
    "s = \"Hello world!\"\n",
    "print(s)"
   ]
  },
  {
   "cell_type": "markdown",
   "metadata": {},
   "source": [
    "18. Another example of strings at work, this time using concatenation to join strings."
   ]
  },
  {
   "cell_type": "code",
   "execution_count": null,
   "metadata": {},
   "outputs": [],
   "source": [
    "myFirstName = \"Katherine\"\n",
    "myLastName = \"Walden\"\n",
    "myName = myFirstName + \" \" + myLastName\n",
    "print(myName)"
   ]
  },
  {
   "cell_type": "markdown",
   "metadata": {},
   "source": [
    "<blockquote>Concatenation: adding or joining together. For strings, Python will concatenate using the <code>+</code> symbol.</blockquote>\n",
    "\n",
    "## Boolean Operators\n",
    "\n",
    "19. Boolean operators are logical values (think true/false, yes/no, 0/1).\n",
    "\n",
    "20. We can use Boolean operators in a variety of ways when programming in Python.\n",
    "\n",
    "21. `<`, `<=`, `>`, `>=`, `==`, `!=` compare two values and return `True` or `False`.\n",
    "\n",
    "22. `and`, `or`, and `not` can combine or modify `True` and `False` values.\n",
    "\n",
    "23. A few examples. Remember for each of these examples, copy/paste or retype the code into your `.py` file to run each mini program (and learn more about Python's functionality and documentation)"
   ]
  },
  {
   "cell_type": "code",
   "execution_count": null,
   "metadata": {},
   "outputs": [],
   "source": [
    "x =4\n",
    "print(type(x == 4))\n",
    "print(x==4)"
   ]
  },
  {
   "cell_type": "code",
   "execution_count": null,
   "metadata": {},
   "outputs": [],
   "source": [
    "# Logic operators can be chained.\n",
    "print(1 < 2 < 3)\n",
    "print(10 < 2 < 3)"
   ]
  },
  {
   "cell_type": "code",
   "execution_count": null,
   "metadata": {},
   "outputs": [],
   "source": [
    "x = 3\n",
    "y = 18\n",
    "z = 10\n",
    "print (x < y < z)"
   ]
  },
  {
   "cell_type": "code",
   "execution_count": null,
   "metadata": {},
   "outputs": [],
   "source": [
    "# a complex sample program that uses Boolean operators\n",
    "print(\"\\\"True\\\" is of type: \", type(True))\n",
    "myLogicalVariable = True\n",
    "\n",
    "print(myLogicalVariable)\n",
    "print('with a not:', not myLogicalVariable)\n",
    "print('with a not not:', not not myLogicalVariable)\n",
    "print('True and True:', True and True)\n",
    "print('True and False:', True and False)\n",
    "print('True or True:', True or True)\n",
    "print('True or False:', True or False)\n",
    "print(\"3: \", bool(3))\n",
    "print(\"0: \", bool(0))\n",
    "print(\"-1:\", bool(-1))"
   ]
  },
  {
   "cell_type": "markdown",
   "metadata": {},
   "source": [
    "<blockquote>Q3: Describe a scenario or situation in which being able to use Boolean operators when programming in Python would be valuable. What kinds of tasks or programs would require Boolean operators? What would Boolean operators enable you to do?</blockquote>  "
   ]
  },
  {
   "cell_type": "markdown",
   "metadata": {},
   "source": [
    "## Arithmetic Operators\n",
    "\n",
    "24. A few standard operators we can use in Python to perform arithmetic operations.\n",
    "- `+` (plus, sum)\n",
    "- `-` (minus, subtraction)\n",
    "- `*` (times, multiplication)\n",
    "- `//` (divide, integer division)\n",
    "- `/` (divide, float division)\n",
    "- `%` (modulo operator, used to return/retrieve remainder after division)\n",
    "- `**` (exponent)\n",
    "\n",
    "25. Python follows the PEDMAS order of operations. When in doubt, use parenthesis!\n",
    "\n",
    "<blockquote>PEDMAS order of operations: parenthesis, exponents, multiplication, division, addition, subtraction</blockquote>\n"
   ]
  },
  {
   "cell_type": "code",
   "execution_count": null,
   "metadata": {},
   "outputs": [],
   "source": [
    "# sample program that uses float and integer division, as well as the modulo operator\n",
    "print (\"3 / 2 = %f\" % (3 / 2))\n",
    "print (\"3 // 2 = %f\" % (3 // 2))"
   ]
  },
  {
   "cell_type": "code",
   "execution_count": null,
   "metadata": {},
   "outputs": [],
   "source": [
    "# sample program that uses order of operations, addition and subtraction, plus the modulo operator\n",
    "print (\"3 + 2 = %d\" % (3 + 2))\n",
    "print (\"7 - 13 = %d\" % (7 - 13))"
   ]
  },
  {
   "cell_type": "code",
   "execution_count": null,
   "metadata": {},
   "outputs": [],
   "source": [
    "# sample program that uses order of operations, multiplication, and the modulo operator\n",
    "# notice the difference between %d and %f\n",
    "print (\"8 * .4 = %d\" % (8 * .4))\n",
    "print (\"8 * .4 = %f\" % (8 * .4))"
   ]
  },
  {
   "cell_type": "code",
   "execution_count": null,
   "metadata": {},
   "outputs": [],
   "source": [
    "# sample program that uses integer division, order of operations, and the modulo operator\n",
    "print (\"8 // 3 = %d\" % (8 // 3))\n",
    "# % is the \"modulus\" (e.g., the \"remainder\")\n",
    "print (\"278 %% 13 = %d\" % (278 % 13))"
   ]
  },
  {
   "cell_type": "code",
   "execution_count": null,
   "metadata": {},
   "outputs": [],
   "source": [
    "# sample program that includes exponentiation, as well as multiplication and order of operations\n",
    "print(\"4 ** 3.8 = %f\" % (4 ** 3.8))"
   ]
  },
  {
   "cell_type": "code",
   "execution_count": null,
   "metadata": {},
   "outputs": [],
   "source": [
    "# sample program that uses the print command to show a variety of number output formats\n",
    "# this program requires we import the math library\n",
    "import math\n",
    "print (\"This number (%f) is pi.\" % math.pi)\n",
    "print (\"This number (%.3f) is pi.\" % math.pi)\n",
    "print (\"This number (%10.3f) is pi.\" % math.pi)\n",
    "print (\"This number (%010.3f) is pi.\" % math.pi)\n",
    "print (\"This number (%+010.3f) is pi.\" % math.pi)\n",
    "print (\"%+010.3f\" % -math.pi)\n",
    "print (\"%e\" % 8675309)"
   ]
  },
  {
   "cell_type": "markdown",
   "metadata": {},
   "source": [
    "<blockquote>Q4: Experiment with a range of basic arithmetic operations in Python. Write a program that involves arithmetic operation. Describe the process of writing this program. What did you want to do in Python? What were the program outputs? What challenges or unexpected results did you encounter? Include your program code as part of the answer to this question.</blockquote>"
   ]
  },
  {
   "cell_type": "markdown",
   "metadata": {},
   "source": [
    "# Character Strings and Variables\n",
    "\n",
    "## User-defined inputs\n",
    "\n",
    "26. Earlier in this lab, we used the `+` sign to concatenate two strings. \n",
    "\n",
    "27. Now we're going to write a program that allows the user (i.e. the person running the program) to input a value for the program to use.\n",
    "\n",
    "28. To allow the user to input a value, we'll use the `input` function."
   ]
  },
  {
   "cell_type": "code",
   "execution_count": null,
   "metadata": {},
   "outputs": [],
   "source": [
    "# sample code that uses the input function to create a new str variable and assign the user-provided value to that variable\n",
    "str = input(\"Please enter a word: \")\n",
    "print(\"You typed \" + str)"
   ]
  },
  {
   "cell_type": "markdown",
   "metadata": {},
   "source": [
    "<blockquote>Q5: Write a program that asks the user to enter two words, and then prints the words concatenated together. Answer to this question includes program + comments that document process and explain your code.</blockquote>"
   ]
  },
  {
   "cell_type": "markdown",
   "metadata": {},
   "source": [
    "29. Now try entering numbers (such as 5, not \"five\") into your Q5 program. \n",
    "\n",
    "30. This result is less than useful. But how can Python know when we ask for user input whether we want the program to treat numbers as numbers or as strings?\n",
    "\n",
    "31. The issue here is that Python (like other programming languages) makes a distinction between numbers and strings of characters that contain numeric digits. To see the difference, think of your zip code. It makes no sense to add or multiply zip codes; thus, at heart a zip code isn't really a number, it is really a character string that happens to contain numeric digits. Indeed, many countries use postal codes that include both digits and letters. \n",
    "\n",
    "32. The `input` function returns a character string.\n",
    "\n",
    "33. We want to convert that string into an integer using the `int()` function."
   ]
  },
  {
   "cell_type": "code",
   "execution_count": null,
   "metadata": {},
   "outputs": [],
   "source": [
    "data = input(\"Enter a number: \")\n",
    "num = int(data)"
   ]
  },
  {
   "cell_type": "markdown",
   "metadata": {},
   "source": [
    "34. At this point, `data` contains a string of digits, but `num` contains a number (specifically an integer).\n",
    "\n",
    "35. Try modifying your Q5 program to include the `int()` function. "
   ]
  },
  {
   "cell_type": "markdown",
   "metadata": {},
   "source": [
    "<blockquote>Q6: Write a program that prompts the user to enter two numbers, converts the input values to integers, adds them, and reports the result. Answer to this question includes program + comments that document process and explain your code. </blockquote>"
   ]
  },
  {
   "cell_type": "markdown",
   "metadata": {},
   "source": [
    "\n",
    "36. An alternative way to handle this situation would be to use a different function to read input from the user. While `input()` can return a string of characters, the `input()` function can also return a number.\n",
    "\n",
    "37. The user inputs from the `input()` function can be added to other numbers (and do not need to be converted to an integer first)."
   ]
  },
  {
   "cell_type": "code",
   "execution_count": null,
   "metadata": {},
   "outputs": [],
   "source": [
    "number = input(\"Please enter a number: \")"
   ]
  },
  {
   "cell_type": "markdown",
   "metadata": {},
   "source": [
    "## Additional exercises\n",
    "\n",
    "Q7:  Write a program that asks the user to think of a month and then enter the number of days in that month. Your program should then compute the number of minutes in the month, and report the result. Answer to this question includes program + comments that document process and explain your code.\n",
    "  \n",
    "Q8: Write a program that prompts the user to enter a temperature in Fahrenheit, and reports the equivalent temperature in Celsius. Answer to this question includes program + comments that document process and explain your code.\n",
    "\n",
    "<blockquote>The conversion equation is: <code>celsius = (fahrenheit - 32.0) * 5.0 / 9.0</code></blockquote>\n",
    "\n",
    "Q9: Write a program that asks the user to input the amount of change your program is to make, and then compute the number of quarters, dimes, nickels, and pennies that produces the correct change with the fewest coins possible. Answer to this question includes program + comments that document process and explain your code.\n",
    "\n",
    "<blockquote>Note: Consider how store clerks give change to their customers. To be considerate, they always try to give the exact change using the fewest coins possible. It turns out that this can always be done (in U.S. currency) by giving as many quarters as possible, followed by as many dimes as possible, and so on down to pennies.</blockquote>\n",
    "\n",
    "# How to submit this lab (and show your work)\n",
    "\n",
    "38. Moving forward, lab notebooks will be submitted as `.py` files. \n",
    "\n",
    "39. One option is to have a `.py` file that you use to run code and test programs while working through the lab. When ready to submit the lab notebook, you add comments and remove extraneous materials.\n",
    "\n",
    "40. Another option is to have an \"official\" `.py` file that you are using as a lab notebook (separate from your working/testing file). Use comments in Python to note when you are starting a new question (as well as answering a question).\n",
    "  * Example: `Lab5_Notebook_Walden.py`\n",
    "\n",
    "41. What gets submitted as the lab notebook is the `Lab5_Notebook_Walden.py` file.\n",
    "- When in doubt, use comments\n",
    "- Be sure you are using comments to note what question you're responding to\n",
    "\n",
    "# Lab Notebook Questions\n",
    "\n",
    "Q1: What do you expect to see when you run the program? How does that compare to what happened when you ran the program?\n",
    "\n",
    "Q2: Describe your experience and process building your own ASCII art. How did you approach the design process? What challenges did you encounter? Include your code as part of this answer.\n",
    "\n",
    "Q3: Describe a scenario or situation in which being able to use Boolean operators when programming in Python would be valuable. What kinds of tasks or programs would require Boolean operators? What would Boolean operators enable you to do?\n",
    "\n",
    "Q4: Experiment with a range of basic arithmetic operations in Python. Write a program that involves arithmetic operation. Describe the process of writing this program. What did you want to do in Python? What were the program outputs? What challenges or unexpected results did you encounter? Include your program as part of the answer to this question.\n",
    "\n",
    "Q5: Write a program that asks the user to enter two words, and then prints the words concatenated together. Include your program as part of the answer to this question.\n",
    "\n",
    "Q6: Write a program that prompts the user to enter two numbers, converts the input values to integers, adds them, and reports the result. Answer to this question includes program + comments that document process and explain your code.\n",
    "\n",
    "Q7:  Write a program that asks the user to think of a month and then enter the number of days in that month. Your program should then compute the number of minutes in the month, and report the result. Answer to this question includes program + comments that document process and explain your code.\n",
    "  \n",
    "Q8: Write a program that prompts the user to enter a temperature in Fahrenheit, and reports the equivalent temperature in Celsius. Answer to this question includes program + comments that document process and explain your code.\n",
    "\n",
    "Q9: Write a program that asks the user to input the amount of change your program is to make, and then compute the number of quarters, dimes, nickels, and pennies that produces the correct change with the fewest coins possible. Answer to this question includes program + comments that document process and explain your code."
   ]
  }
 ],
 "metadata": {
  "kernelspec": {
   "display_name": "Python 3",
   "language": "python",
   "name": "python3"
  },
  "language_info": {
   "codemirror_mode": {
    "name": "ipython",
    "version": 3
   },
   "file_extension": ".py",
   "mimetype": "text/x-python",
   "name": "python",
   "nbconvert_exporter": "python",
   "pygments_lexer": "ipython3",
   "version": "3.8.5"
  }
 },
 "nbformat": 4,
 "nbformat_minor": 4
}
