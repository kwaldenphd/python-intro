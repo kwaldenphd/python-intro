{
  "nbformat": 4,
  "nbformat_minor": 0,
  "metadata": {
    "colab": {
      "provenance": [],
      "toc_visible": true,
      "authorship_tag": "ABX9TyN0IqF6IzCxDQXWTZbhtG9l",
      "include_colab_link": true
    },
    "kernelspec": {
      "name": "python3",
      "display_name": "Python 3"
    },
    "language_info": {
      "name": "python"
    }
  },
  "cells": [
    {
      "cell_type": "markdown",
      "metadata": {
        "id": "view-in-github",
        "colab_type": "text"
      },
      "source": [
        "<a href=\"https://colab.research.google.com/github/kwaldenphd/python-intro/blob/main/python_intro_lab_procedure.ipynb\" target=\"_parent\"><img src=\"https://colab.research.google.com/assets/colab-badge.svg\" alt=\"Open In Colab\"/></a>"
      ]
    },
    {
      "cell_type": "markdown",
      "source": [
        "# Getting Started With Python (basic syntax & data types)\n",
        "\n",
        "<a href=\"http://creativecommons.org/licenses/by-nc/4.0/\" rel=\"license\"><img style=\"border-width: 0;\" src=\"https://i.creativecommons.org/l/by-nc/4.0/88x31.png\" alt=\"Creative Commons License\" /></a>This tutorial was written by Katherine Walden and is licensed under a <a href=\"http://creativecommons.org/licenses/by-nc/4.0/\" rel=\"license\">Creative Commons Attribution-NonCommercial 4.0 International License</a>.\n",
        "\n"
      ],
      "metadata": {
        "id": "0Wtd31XrcfQh"
      }
    },
    {
      "cell_type": "markdown",
      "source": [
        "## Lab Overview & Goals\n",
        "\n",
        "This lab provides an overview of foundational programming concepts, with a focus on Python syntax. Topics covered include:\n",
        "- Data types\n",
        "- Comments\n",
        "- Variables & assignment operators\n",
        "- Arithmetic operators\n",
        "- Concatenation\n",
        "- Input/Output\n",
        "- Converting data types\n"
      ],
      "metadata": {
        "id": "P3scKaN8G52l"
      }
    },
    {
      "cell_type": "markdown",
      "source": [
        "## Acknowledgements\n",
        "\n",
        "Portions of this lab are adapted from the [\"Lab: Programming in Python\"](https://www.cs.grinnell.edu/~davisjan/csc/105/2012S/labs/python1.html) and [\"Lab: Numbers in Python\"](https://www.cs.grinnell.edu/~davisjan/csc/105/2012S/labs/python2.html) lab materials developed by [Janet Davis](https://cs.whitman.edu/~davisj/) for the the [CSC 105 \"The Digital Age\" course](https://www.cs.grinnell.edu/~davisjan/csc/105/2012S/). \n",
        "\n",
        "This lab also incorporates elements of [Corey Pennycuff's](https://www3.nd.edu/~cpennycu/) [\"Intro to Python/Jupyter\" Jupyter notebook](https://www3.nd.edu/~cpennycu/2019/assets/fall/EOC/19.08.29.ipynb) from [CSE 10101 Elements of Computing (Fall 2019)](https://www3.nd.edu/~cpennycu/2019/fa-CSE10101-CDT30010.html).\n",
        "\n",
        "Definitions and explanations in this lab are adapted from:\n",
        "- W3Schools, [Python tutorials and documentation](https://www.w3schools.com/python/)\n",
        "- Kenneth Leroy Busbee and Dave Braunschweig, *[Programming Fundamentals: A Modular Structured Approach, 2nd Edition](https://press.rebus.community/programmingfundamentals/)* (Rebus Press, 2018)"
      ],
      "metadata": {
        "id": "jgpNp7HtHDTO"
      }
    },
    {
      "cell_type": "markdown",
      "source": [
        "## Key Concepts\n",
        "\n",
        "[Click here](https://github.com/kwaldenphd/python-intro/blob/main/key-concepts.md) for a full list of key concepts and definitions for this lab."
      ],
      "metadata": {
        "id": "LYWZMVn9HGv4"
      }
    },
    {
      "cell_type": "markdown",
      "source": [
        "## Lab Notebook Template\n",
        "\n",
        "[Jupyter Notebook, `.ipynb`](https://colab.research.google.com/drive/1xnnZnnab03qHwTPQR5pGv39XsNlaOYpA?usp=sharing) (Google Colab, ND users)\n"
      ],
      "metadata": {
        "id": "4xeTcF8DHJWE"
      }
    },
    {
      "cell_type": "markdown",
      "source": [
        "## How to submit this lab (and show your work)\n",
        "\n",
        "Moving forward, we'll submit lab notebooks as `.py` files. \n",
        "\n",
        "One option is to have a `.py` file that you use to run code and test programs while working through the lab. When ready to submit the lab notebook, you add comments and remove extraneous materials.\n",
        "\n",
        "Another option is to have an \"official\" `.py` file that you are using as a lab notebook (separate from your working/testing file). Use comments in Python to note when you are starting a new question (as well as answering a question).\n",
        "  * Example: `Lab_Notebook_Walden.py`\n",
        "\n",
        "What gets submitted as the lab notebook is the `Lab_Notebook_Walden.py` file.\n",
        "- When in doubt, use comments\n",
        "- Be sure you are using comments to note what question you're responding to"
      ],
      "metadata": {
        "id": "6f55b69wHNgO"
      }
    },
    {
      "cell_type": "markdown",
      "source": [
        "# Your First Program"
      ],
      "metadata": {
        "id": "iGhR0-XZHOvV"
      }
    },
    {
      "cell_type": "markdown",
      "source": [
        "## Data Types\n",
        "\n",
        "\"A data type is a classification of data which tells the compiler or interpreter how the programmer intends to use the data. Most programming languages support various types of data, including integer, real, character or string, and Boolean\" (Kenneth Leroy Busbee and Dave Braunschweig, \"[Data Types](https://press.rebus.community/programmingfundamentals/chapter/data-types/)\" in *Programming Fundamentals*)\n",
        "\n",
        "How a programming language recognizes or understands the type of information shapes how it executes specific commands or operations.\n",
        "\n",
        "Commonly-used data types (with Python examples) include:\n",
        "\n",
        "<table><tr><th>Name</th><th>Python Syntax</th><th>Example</th><th>Description</th></tr>\n",
        "  <tr><td>String</td><td><code>str()</code><td><code>\"Hello World!\"</code></td><td>String of characters</td></tr>\n",
        "  <tr><td>Integer</td><td><code>int()</code><td><code>7</code></td><td>Whole number</td></tr>\n",
        "  <tr><td>Float</td><td><code>float()</code><td><code>1.5</code></td><td>Decimal number, or number with floating point values</td></tr>\n",
        "  <tr><td>Boolean</td><td><code>bool()</code><td><code>True</code></td><td>Two-state system that typically represents true/false values</td></tr>\n",
        "  <tr><td>Nothing/Null/NoneType</td><td><code>NoneType</code><td><code>None</code></td><td>No value</td></tr> \n",
        "  </table>\n",
        "  \n",
        "More on data types, from Busbee and Braunschweig's *[Coding Fundamentals](https://press.rebus.community/programmingfundamentals)*:\n",
        "- [Integer](https://press.rebus.community/programmingfundamentals/chapter/integer-data-type/)\n",
        "- [Floating Point](https://press.rebus.community/programmingfundamentals/chapter/floating-point-data-type/)\n",
        "- [String](https://press.rebus.community/programmingfundamentals/chapter/string-data-type/)\n",
        "- [Boolean](https://press.rebus.community/programmingfundamentals/chapter/boolean-data-type/)\n",
        "- [Nothing](https://press.rebus.community/programmingfundamentals/chapter/nothing-data-type/)\n",
        "\n",
        "For more on data types in Python:\n",
        "- [W3Schools, Python Data Types](https://www.w3schools.com/python/python_datatypes.asp)\n",
        "\n",
        "We can use the `type()` function in Python to check an object or value's data type.\n",
        "- `type` is the function name\n",
        "- The value or information we are passing to the function goes inside the parenthesis\n"
      ],
      "metadata": {
        "id": "EEkibWWHHQnQ"
      }
    },
    {
      "cell_type": "code",
      "source": [
        "# a type example\n",
        "type(\"Hello world!\")"
      ],
      "metadata": {
        "id": "Vr9m7cTOHR66"
      },
      "execution_count": null,
      "outputs": []
    },
    {
      "cell_type": "markdown",
      "source": [
        "## Comments\n",
        "\n",
        "Comments mark instructions or information in the code that will not run as part of the program. Comments are useful for testing, documenting, and describing what your code is doing. \n",
        "\n",
        "In Python, single line comments begin with a pound `#` symbol and multi-line comments are marked by three sets of double quotation marks `\"\"\"`.\n"
      ],
      "metadata": {
        "id": "JfdpWKoKHTRO"
      }
    },
    {
      "cell_type": "code",
      "source": [
        "# This is an example of a single line comment in Python\n",
        "\n",
        "\"\"\"\n",
        "This is an example of a multi-line comment in Python\n",
        "\"\"\""
      ],
      "metadata": {
        "id": "YTIKA0DlHUt0"
      },
      "execution_count": null,
      "outputs": []
    },
    {
      "cell_type": "markdown",
      "source": [
        "For more on comments in Python:\n",
        "- [W3Schools, Python Comments](https://www.w3schools.com/python/python_comments.asp)\n",
        "\n",
        "## Running Your Program\n",
        "\n",
        "Earlier in the semester, we wrote an assembly language program that ran when we pressed the `Execute` button.\n",
        "\n",
        "In most programming languages, there are a few common options for how you run or execute specific lines of code, sections of code, or an entire program.\n",
        "\n",
        "<p align=\"center\"><img src=\"https://github.com/kwaldenphd/python-intro/blob/main/images/Replit_Python_Screenshot.png?raw=true\" width=\"1000\"></p>\n",
        "\n",
        "Most integrated development environments (IDEs) include two locations where you can execute code:\n",
        "- We can type commands and run programs in the **console**, but those instructions are not saved and aren't available outside the current working session.\n",
        "- We can also type commands and run programs in a **script**. This is a file that is saved as part of the project/workspace. It's available outside the current working session and can be reopened, modified, or executed (as an entire program).\n",
        "\n",
        "A couple other notes on consoles and scripts:\n",
        "- When we run a piece of code in our script, the output or result will be shown in the console.\n",
        "- We can also run an entire script at the command line (i.e. `python main.py`)\n"
      ],
      "metadata": {
        "id": "neS_Wd6THXGI"
      }
    },
    {
      "cell_type": "markdown",
      "source": [
        "## Comprehension Check\n",
        "\n",
        "<table>\n",
        " <tr><td>\n",
        "<img src=\"https://github.com/kwaldenphd/internet/blob/main/images/clipboard.png?raw=true\" alt=\"Clipboard icon\" width=\"50\"/></td>\n",
        "  <td><a href=\"https://docs.google.com/forms/d/e/1FAIpQLSdhdGEhhGB1wcx4BSRS7xGRG3yV8jKy3YXaISk1FEjCA4-W9w/viewform?usp=sf_link\">Data Types & the IDE Comprehension Check</a></td>\n",
        "  </tr>\n",
        "  </table>\n"
      ],
      "metadata": {
        "id": "QE6rkr9mHYT_"
      }
    },
    {
      "cell_type": "markdown",
      "source": [
        "# Variables & Assignment Operators\n",
        "\n",
        "In most programming languages, variables work as \"containers for storing data values\" ([W3Schools, Python Variables](https://www.w3schools.com/python/python_variables.asp))\n",
        "\n",
        "We create a variable by assigning a value to that variable name using an **assignment operator**.\n",
        "\n",
        "\"An assignment statement sets and/or re-sets the value stored in the storage location(s) denoted by a variable name; in other words, it copies a value into the variable...The assignment operator has two operands. The one to the left of the operator is usually an identifier name for a variable. The one to the right of the operator is a value\" (Kenneth Leroy Busbee and Dave Braunschweig, \"[Assignment](https://press.rebus.community/programmingfundamentals/chapter/assignment/)\" in *Programming Fundamentals*)\n",
        "\n",
        "```\n",
        "[identifier] [assignment symbol] [value]\n",
        "```\n",
        "\n",
        "In Python, the equals sign `=` is the assignment symbol. The underlying syntax for creating a variable in Python using an assignment statement:\n"
      ],
      "metadata": {
        "id": "JoDB7gvcHanW"
      }
    },
    {
      "cell_type": "code",
      "source": [
        "# general syntax\n",
        "identifier = value\n",
        "\n",
        "# simple variable example\n",
        "x = 7\n",
        "\n",
        "# composite variable example\n",
        "y = 5 + 7"
      ],
      "metadata": {
        "id": "rhPi0OA9Hbv5"
      },
      "execution_count": null,
      "outputs": []
    },
    {
      "cell_type": "markdown",
      "source": [
        "Python has a few restrictions and best practices around variable identifiers or names:\n",
        "\n",
        "1- They have to start with a letter character or an underscore (no symbols or numeric characters)\n"
      ],
      "metadata": {
        "id": "bmj5nZZNHdMw"
      }
    },
    {
      "cell_type": "code",
      "source": [
        "# example of a valid identifier\n",
        "x = 7\n",
        "\n",
        "# example of an invalid identifier\n",
        "$x = 7"
      ],
      "metadata": {
        "id": "0WKj-CY6HeFh"
      },
      "execution_count": null,
      "outputs": []
    },
    {
      "cell_type": "markdown",
      "source": [
        "2: Terms that have other meaning or function in Python can't be used as variable identifiers. For example the name of a built-in function (`type`) can't be used as a variable identifier.\n",
        "\n",
        "Reserved keywords in Python include: `and, except, lambda, with, as, finally, nonlocal, while, assert, fale, None, yield, break, for, not, class, from, or, continue, global, pass, def, if, raise, del, import, return, elif, in, True, else, is, try`\n",
        "\n",
        "3: Best practice is any programming language is to use meaningful variable identifiers. Just calling something `x` or `y` won't be particularly helpful to someone else reading or interacting with your code. That said, overly-complex variable identifiers are prone to user error.\n",
        "\n",
        "We can show the value for a variable using Python's `print()` function."
      ],
      "metadata": {
        "id": "Vu5lDSorHfj9"
      }
    },
    {
      "cell_type": "code",
      "source": [
        "# assignment statement\n",
        "x = 7\n",
        "\n",
        "# show variable value\n",
        "print(x)"
      ],
      "metadata": {
        "id": "WNxpmPeAHgyr"
      },
      "execution_count": null,
      "outputs": []
    },
    {
      "cell_type": "markdown",
      "source": [
        "We can also show a variable's data type using the `type()` function."
      ],
      "metadata": {
        "id": "HW1Y_f7KHhnp"
      }
    },
    {
      "cell_type": "code",
      "source": [
        "# assignment statement\n",
        "y = \"Hello world!\"\n",
        "\n",
        "# show type\n",
        "type(y)"
      ],
      "metadata": {
        "id": "JaDidzaZHpL1"
      },
      "execution_count": null,
      "outputs": []
    },
    {
      "cell_type": "markdown",
      "source": [
        "## Comprehension Check\n",
        "\n",
        "<table>\n",
        " <tr><td>\n",
        "<img src=\"https://github.com/kwaldenphd/internet/blob/main/images/clipboard.png?raw=true\" alt=\"Clipboard icon\" width=\"50\"/></td>\n",
        "  <td><a href=\"https://docs.google.com/forms/d/e/1FAIpQLScZ06JksFcjjrgt1IdbPD1IS38ZLItdonFwg6G-vL-fCUflPg/viewform?usp=sf_link\">Variables & Assignment Operators Comprehension Check</a></td>\n",
        "  </tr>\n",
        "  </table>"
      ],
      "metadata": {
        "id": "OtEqZLfqHntT"
      }
    },
    {
      "cell_type": "markdown",
      "source": [
        "# Application\n",
        "\n",
        "Q1: Create a named variable for each of the following data types.\n",
        "- Integer\n",
        "- Float\n",
        "- String\n",
        "- Boolean\n",
        "\n",
        "Show the value of each variable using `print()` and check the type of each variable using `type()`.\n",
        "\n",
        "Answer to this question includes program + comments that document process and explain your code.\n"
      ],
      "metadata": {
        "id": "6u9fO-nRHq0U"
      }
    },
    {
      "cell_type": "markdown",
      "source": [
        "# Arithmetic Operators\n",
        "\n",
        "Most programming languages allow you to perform arithmetic operations and mathematical calculations using **arithmetic operators**.\n",
        "\n",
        "Common arithmetic operations (with Python examples) include:\n",
        "\n",
        "<table><tr><th>Name</th><th>Python Syntax</th><th>Python Example</th><th>Description</th></tr>\n",
        "  <tr><td>Addition</td><td><code>+</code><td><code>5 + 6</code></td><td>Adds values</td></tr>\n",
        "  <tr><td>Subtraction</td><td><code>-</code><td><code>5 - 6</code></td><td>Subtracts values</td></tr>\n",
        "  <tr><td>Multiplication</td><td><code>*</code><td><code>5 * 6</code></td><td>Multiples values</td></tr>\n",
        "  <tr><td>Integer division</td><td><code>//</code><td><code>5 // 6</code></td><td>Divides values, integers (whole numbers)</td></tr> \n",
        "  <tr><td>Float division</td><td><code>/</code><td><code>5 / 6</code></td><td>Divides values, floating point numbers (decimal values)</td></tr>\n",
        "  <tr><td>Modulo</td><td><code>%</code><td><code>5 % 6</code></td><td>Returns or retrieves remainder (whole number) from division operation</td></tr>  \n",
        "  <tr><td>Exponent</td><td><code>**</code><td><code>5 ** 6</code></td><td>Calculates exponent</td></tr>\n",
        "  </table>\n",
        "  \n",
        "More on arithmetic operators (in general): \"[Arithmetic Operators](https://press.rebus.community/programmingfundamentals/chapter/arithmetic-operators/)\" from Busbee and Braunschweig's *[Coding Fundamentals](https://press.rebus.community/programmingfundamentals)*:\n",
        "\n",
        "For more on arithmetic operators in Python:\n",
        "- [W3Schools, Python Arithmetic Operators](https://www.w3schools.com/python/gloss_python_arithmetic_operators.asp)\n",
        "\n",
        "We can run arithmetic operations directly in the console or in a script."
      ],
      "metadata": {
        "id": "AKpGqLknHtWU"
      }
    },
    {
      "cell_type": "code",
      "source": [
        "# sample arithmetic operation\n",
        "5 + 7"
      ],
      "metadata": {
        "id": "A9tnapeIHubm"
      },
      "execution_count": null,
      "outputs": []
    },
    {
      "cell_type": "markdown",
      "source": [
        "But we can also assign the output of an arithmetic operation to a variable.\n"
      ],
      "metadata": {
        "id": "n0jgda7-IBbB"
      }
    },
    {
      "cell_type": "code",
      "source": [
        "# sample arithmetic operation where output is assigned to variable\n",
        "x = 5 + 7\n",
        "\n",
        "# show variable value\n",
        "print(x)"
      ],
      "metadata": {
        "id": "YRZ4bcupICs3"
      },
      "execution_count": null,
      "outputs": []
    },
    {
      "cell_type": "markdown",
      "source": [
        "<p align=\"center\"><img src=\"https://github.com/kwaldenphd/python-intro/blob/main/images/PEDMAS.png?raw=true\" width=\"500\"></p>\n",
        "\n",
        "Python follows the PEDMAS order of operations: parenthesis, exponents, multiplication, division, addition, subtraction. \n",
        "- *When in doubt, use parenthesis!*\n",
        "\n",
        "## Comprehension Check\n",
        "\n",
        "<table>\n",
        " <tr><td>\n",
        "<img src=\"https://github.com/kwaldenphd/internet/blob/main/images/clipboard.png?raw=true\" alt=\"Clipboard icon\" width=\"50\"/></td>\n",
        "  <td><a href=\"https://docs.google.com/forms/d/e/1FAIpQLSel1Y3UC27V97ChdRtXeWIUXBsQ0SR8vW9w2R5IqQE7yXBhww/viewform?usp=sf_link\">Arithmetic Operators Comprehension Check</a></td>\n",
        "  </tr>\n",
        "  </table>\n"
      ],
      "metadata": {
        "id": "JEuwdMKRIEW0"
      }
    },
    {
      "cell_type": "markdown",
      "source": [
        "## Application\n",
        "\n",
        "Q2: Write programs (or a single program) that use each of the following arithmetic operators.\n",
        "- Addition\n",
        "- Subtraction\n",
        "- Multiplication\n",
        "- Division\n",
        "- Modulus\n",
        "- Exponents\n",
        "\n",
        "You can write separate calculations with single operators, or calculations that use multiple operators.\n",
        "\n",
        "Answer to this question includes program + comments that document process and explain your code.\n",
        "\n",
        "Q3: Write a program that uses arithmetic operators to convert a specific Farenheit temperature value and output its Celsius representation. Answer to this question includes program + comments that document process and explain your code.\n",
        "\n",
        "<blockquote>The conversion equation is: <code>celsius = (fahrenheit - 32.0) * 5.0 / 9.0</code></blockquote>\n",
        "\n",
        "Q4: Write a program that calculates the fewest number of U.S. coins needed to make change for a 73 cent remainder. To put that another way- write a program that determines the smallest number of coins in each U.S. denomination needed to make up 73 cents. Answer to this question includes program + comments that document process and explain your code.\n",
        "\n",
        "In U.S. currency, one dollar ($1.00) equals one hundred (100) cents. The coins used to make change have a face value in cents.\n",
        "\n",
        "- Quarter = 25 cents\n",
        "- Dime = 10 cents\n",
        "- Nickel = 5 cents\n",
        "- Penny = 1 cent\n",
        "\n",
        "<blockquote>This workflow mirrors how store clerks give change to their customers. To be considerate, they always try to give the exact change using the fewest coins possible. It turns out that this can always be done (in U.S. currency) by giving as many quarters as possible, followed by as many dimes as possible, and so on down to pennies.</blockquote>\n"
      ],
      "metadata": {
        "id": "qlG2P0hHIGmY"
      }
    },
    {
      "cell_type": "markdown",
      "source": [
        "# Concatenation\n",
        "\n",
        "In most programming languages, **concatenation** involves adding or joining character strings.\n",
        "\n",
        "For example, we could concatenate the strings `Hello` and `world` to create a `Hello world` message.\n",
        "\n",
        "In Python, we use the plus sign `+` to concatenate strings.\n",
        "\n",
        "One option is to use concatenation as part of a `print()` statement:"
      ],
      "metadata": {
        "id": "gA8OyXJxIH3S"
      }
    },
    {
      "cell_type": "code",
      "source": [
        "# concatenation in a print statement\n",
        "print(\"Hello \" + \"World!\")"
      ],
      "metadata": {
        "id": "VRpkuD5cIIxF"
      },
      "execution_count": null,
      "outputs": []
    },
    {
      "cell_type": "markdown",
      "source": [
        "We can also use concatenation with string variables.\n"
      ],
      "metadata": {
        "id": "gxhyYErBIJet"
      }
    },
    {
      "cell_type": "code",
      "source": [
        "# concatenation with string variables\n",
        "x = \"Hello\"\n",
        "y = \"World\"\n",
        "\n",
        "# concatenation with a print statement\n",
        "print(x + y)\n",
        "\n",
        "# conatenation with variable assignment\n",
        "z = x + y\n",
        "print(z)"
      ],
      "metadata": {
        "id": "eoVVQ6i-IKjf"
      },
      "execution_count": null,
      "outputs": []
    },
    {
      "cell_type": "markdown",
      "source": [
        "We can compare string concatenation to how the addition operator (`+`) interacts with numeric values.\n"
      ],
      "metadata": {
        "id": "teOaZMv-ILbH"
      }
    },
    {
      "cell_type": "code",
      "source": [
        "# numeric 'concatenation' in a print statement\n",
        "print(5 + 7)\n",
        "\n",
        "# numeric 'concatenation' with variable assignment\n",
        "x = 5\n",
        "y = 7\n",
        "z = x + y\n",
        "print(z)"
      ],
      "metadata": {
        "id": "bHSkL-_cIMhp"
      },
      "execution_count": null,
      "outputs": []
    },
    {
      "cell_type": "markdown",
      "source": [
        "NOTE: In Python, concatenation operations or the `+` operator will only work on variables or values of a common type.\n"
      ],
      "metadata": {
        "id": "A7g5UEtcINe1"
      }
    },
    {
      "cell_type": "code",
      "source": [
        "# trying concatenation with an integer and string\n",
        "year = 2023\n",
        "school = \"Notre Dame\"\n",
        "\n",
        "print(school + \", Class of \" + year)"
      ],
      "metadata": {
        "id": "D8bnIv5wIOmy"
      },
      "execution_count": null,
      "outputs": []
    },
    {
      "cell_type": "markdown",
      "source": [
        "In the last section of this lab, we'll talk about how to convert data types to address this issue.\n",
        "\n",
        "## Comprehension Check\n",
        "\n",
        "<table>\n",
        " <tr><td>\n",
        "<img src=\"https://github.com/kwaldenphd/internet/blob/main/images/clipboard.png?raw=true\" alt=\"Clipboard icon\" width=\"50\"/></td>\n",
        "  <td><a href=\"https://docs.google.com/forms/d/e/1FAIpQLScFQQp8Hb0H3j-obJSPVjQf_wpdaYXOUBmoIlbrN4wDtaBBRQ/viewform?usp=sf_link\">Concatenation Comprehension Check</a></td>\n",
        "  </tr>\n",
        "  </table>\n"
      ],
      "metadata": {
        "id": "FjjOzW2SIP-Q"
      }
    },
    {
      "cell_type": "markdown",
      "source": [
        "## Application\n",
        "\n",
        "Q5: Create variables for each of the discrete pieces of information in \"the standard Notre Dame introduction.\"\n",
        "- Name\n",
        "- Class year\n",
        "- Home state/country\n",
        "- Major(s) / minor(s)\n",
        "- Residence hall\n",
        "\n",
        "Use concatenation in combination with a `print()` statement to output a narrative introduction using the named variables.\n",
        "\n",
        "Answer to this question includes program + comments that document process and explain your code.\n",
        "\n",
        "Sample output for this program:\n",
        "```\n",
        "I'm Knute Rockne, class of 1914. I'm majoring in pharmacy and originally from Norway but grew up in Chicago. I live in Sorin Hall.\n",
        "```\n",
        "\n",
        "Q6: Write a program that creates `first_name` and `last_name` variables, and then uses concatenation to output a `full_name` variable. Answer to this question includes program + comments that document process and explain your code."
      ],
      "metadata": {
        "id": "VSbkpai4ISm5"
      }
    },
    {
      "cell_type": "markdown",
      "source": [
        "# Input & Output (I/O)\n",
        "\n",
        "In programming languages and computing more broadly, `I/O` stands for `Input` and `Output`.\n",
        "\n",
        "We've seen `I/O` at work in previous labs, where we provided inputs to the computer (using a CPU simulator or working at the terminal), a task or operation was performed, and there was an endpoint or output for that process.\n",
        "\n",
        "A concrete example would be the assembly language program we wrote for Lab #2: How Comptuters Work (Hardware). We wrote assembly language instructions which served as inputs for the fetch-execute cycle, and the final output for the program was a data value stored in main memory.\n",
        "\n",
        "Similarly, programming languages can take a variety of inputs (user-provided values, data, files, etc) and return outputs in a variety of formats (data stored in memory, output that shows up in the console, newly-created or -modified files, etc).\n",
        "\n",
        "In future labs, we'll do more with with aspects of `I/O` that have to do with reading and writing files. But for now, we've already seen `I/O` in action in Python via `print()` statements.\n",
        "\n",
        "One way Python accepts input is via the `input()` function, which accepts a user input and assigns that to a variable.\n",
        "\n",
        "A sample program that asks a user to enter their name:"
      ],
      "metadata": {
        "id": "eHGQE_1GIUQh"
      }
    },
    {
      "cell_type": "code",
      "source": [
        "# initial prompt\n",
        "print(\"Enter your name: \")\n",
        "\n",
        "# input function\n",
        "name = input()\n",
        "\n",
        "# output statement\n",
        "print(\"Hello, \" + name)"
      ],
      "metadata": {
        "id": "-GswoxOnIV1j"
      },
      "execution_count": null,
      "outputs": []
    },
    {
      "cell_type": "markdown",
      "source": [
        "We can modify that program to include the initial prompt as part of the `input()` statement.\n"
      ],
      "metadata": {
        "id": "7MLzV4zqIWh5"
      }
    },
    {
      "cell_type": "code",
      "source": [
        "# initial prompt with input function\n",
        "name = input(\"Enter your name: \")\n",
        "\n",
        "# output\n",
        "print(\"Hello, \" + name)"
      ],
      "metadata": {
        "id": "rO-gSkudIXaw"
      },
      "execution_count": null,
      "outputs": []
    },
    {
      "cell_type": "markdown",
      "source": [
        "NOTE: The default data type for a variable created using the `input()` function is a string object. We can change data types using the functions we'll cover in the last section of this lab.\n",
        "\n",
        "More on Python's `input()` function:\n",
        "- [W3Schools, Python input() Function](https://www.w3schools.com/python/ref_func_input.asp)\n",
        "\n",
        "## Comprehension Check\n",
        "\n",
        "<table>\n",
        " <tr><td>\n",
        "<img src=\"https://github.com/kwaldenphd/internet/blob/main/images/clipboard.png?raw=true\" alt=\"Clipboard icon\" width=\"50\"/></td>\n",
        "  <td><a href=\"https://docs.google.com/forms/d/e/1FAIpQLSe83StYhYCVwUUt3kSSNImGjP8sHS9JfKDjlfSUrGFQNUn3AA/viewform?usp=sf_link\">I/O Comprehension Check</a></td>\n",
        "  </tr>\n",
        "  </table>\n"
      ],
      "metadata": {
        "id": "8v7-w8yVIY0c"
      }
    },
    {
      "cell_type": "markdown",
      "source": [
        "## Application\n",
        "\n",
        "Q7: Write a program that asks the user to enter their favorite color, and then prints a `\"Your favorite color is...\"` message. Answer to this question includes program + comments that document process and explain your code.\n",
        "\n",
        "Q8: Write a program that accepts user input for the discrete pieces of information in \"the standard Notre Dame introduction.\"\n",
        "- Name\n",
        "- Class year\n",
        "- Home state/country\n",
        "- Major(s) / minor(s)\n",
        "- Residence hall\n",
        "\n",
        "Use concatenation in combination with a `print()` statement to output a narrative introduction using the named variables.\n",
        "\n",
        "Answer to this question includes program + comments that document process and explain your code.\n",
        "\n",
        "Sample output for this program:\n",
        "```\n",
        "Knute Rockne, class of 1918, is majoring in pharmacy. He is originally from Norway but grew up in Chicago. He lives in Sorin Hall.\n",
        "```"
      ],
      "metadata": {
        "id": "YSXjF8gpIbKq"
      }
    },
    {
      "cell_type": "markdown",
      "source": [
        "# Converting Data Types\n",
        "\n",
        "Earlier in this lab we used arithmetic operators to develop a Fahrenheit - Celsius temperature conversion formula. Imagine a scenario in which we want to convert a user-provided temperature.\n",
        "\n",
        "We could use the `input()` function and then pass that input value to our conversion formula. Let's try it."
      ],
      "metadata": {
        "id": "cDtBtEJgIckE"
      }
    },
    {
      "cell_type": "code",
      "source": [
        "temp = input(\"Enter a temperature in Fahrenheit: \")\n",
        "\n",
        "# conversion formula\n",
        "celsius = (temp - 32) * (5/9)\n",
        "\n",
        "# show celsius output\n",
        "print(temp + \" degrees in Fahrenheit is \" + celsius + \" degrees in Celsius\")"
      ],
      "metadata": {
        "id": "p1pKp_bnIeG0"
      },
      "execution_count": null,
      "outputs": []
    },
    {
      "cell_type": "markdown",
      "source": [
        "Except this program results in a `TypeError`. In Python, this is a data type error indicating we're trying to perform an operation that's not compatible with the data types we're using.\n",
        "\n",
        "Python includes built-in functions that let us convert specific data types.\n",
        "\n",
        "<table><tr><th>Name</th><th>Python Syntax</th><th>Example</th><th>Description</th></tr>\n",
        "  <tr><td>String</td><td><code>str()</code><td><code>\"Hello World!\"</code></td><td>String of character</td></tr>\n",
        "  <tr><td>Integer</td><td><code>int()</code><td><code>7</code></td><td>Whole number</td></tr>\n",
        "  <tr><td>Float</td><td><code>float()</code><td><code>1.5</code></td><td>Decimal number, or number with floating point values</td></tr>\n",
        "  <tr><td></td>Boolean<td><code>bool()</code><td><code>True</code></td><td>Two-state system that typically represents true/false values</td></tr>\n",
        "  <tr><td>Nothing/Null/NoneType</td><td><code>NoneType</code><td><code>None</code></td><td>No value</td></tr> \n",
        "  </table>\n",
        "\n",
        "Remember our program from the [Concatenation](#concatenation) section of the lab:\n"
      ],
      "metadata": {
        "id": "uEbnNC4HIfZS"
      }
    },
    {
      "cell_type": "code",
      "source": [
        "# trying concatenation with an integer and string\n",
        "year = 2023\n",
        "school = \"Notre Dame\"\n",
        "\n",
        "print(school + \", Class of \" + year)"
      ],
      "metadata": {
        "id": "MqXgewxXIgi5"
      },
      "execution_count": null,
      "outputs": []
    },
    {
      "cell_type": "markdown",
      "source": [
        "We can use the `str()` function to convert `year` from an integer to a string object. That will allow the final `print()` statement to run.\n"
      ],
      "metadata": {
        "id": "EkWsc09iIhb3"
      }
    },
    {
      "cell_type": "code",
      "source": [
        "# assign year variable\n",
        "year = 2023\n",
        "\n",
        "# convert to string\n",
        "year = str(year)\n",
        "\n",
        "# assign school variable\n",
        "school = \"Notre Dame\"\n",
        "\n",
        "# output\n",
        "print(school + \", Class of \" + year)"
      ],
      "metadata": {
        "id": "VHYZcouVIiwd"
      },
      "execution_count": null,
      "outputs": []
    },
    {
      "cell_type": "markdown",
      "source": [
        "We could combine the first two lines of this program to convert the data type when we create the variable.\n"
      ],
      "metadata": {
        "id": "5IrrhrgtIjrj"
      }
    },
    {
      "cell_type": "code",
      "source": [
        "# assign year variable and convert to string\n",
        "year = str(2023)\n",
        "\n",
        "# assign school variable\n",
        "school = \"Notre Dame\"\n",
        "\n",
        "# output\n",
        "print(school + \", Class of \" + year)"
      ],
      "metadata": {
        "id": "FD9vtKl5IkyF"
      },
      "execution_count": null,
      "outputs": []
    },
    {
      "cell_type": "markdown",
      "source": [
        "An alternate workflow for instructing Python to treat `2023` as a string of characters:\n"
      ],
      "metadata": {
        "id": "o0RpfA6-Illk"
      }
    },
    {
      "cell_type": "code",
      "source": [
        "# assign year variable as string\n",
        "year = \"2023\"\n",
        "\n",
        "# assign school variable\n",
        "school = \"Notre Dame\"\n",
        "\n",
        "# output\n",
        "print(school + \", Class of \" + year)"
      ],
      "metadata": {
        "id": "Sc_2kyDYImfJ"
      },
      "execution_count": null,
      "outputs": []
    },
    {
      "cell_type": "markdown",
      "source": [
        "## Comprehension Check\n",
        "\n",
        "<table>\n",
        " <tr><td>\n",
        "<img src=\"https://github.com/kwaldenphd/internet/blob/main/images/clipboard.png?raw=true\" alt=\"Clipboard icon\" width=\"50\"/></td>\n",
        "  <td><a href=\"https://docs.google.com/forms/d/e/1FAIpQLSd-ZmsE0NYbCz3pLsuAx0f5a9E2rWeC8FryIhI6KBS_KJjP-Q/viewform?usp=sf_link\">Converting Data Types Comprehension Check</a></td>\n",
        "  </tr>\n",
        "  </table>"
      ],
      "metadata": {
        "id": "kN9sb2XTInvV"
      }
    },
    {
      "cell_type": "markdown",
      "source": [
        "## Application\n",
        "\n",
        "Q9: Write a program that prompts the user to enter two numbers, converts the input values to integers, adds them, and reports the result. Answer to this question includes program + comments that document process and explain your code.\n",
        "\n",
        "Q10: Write a program that asks the user to think of a month and then enter the number of days in that month. Your program should then compute the number of minutes in the month, and report the result. Answer to this question includes program + comments that document process and explain your code.\n",
        "\n",
        "Q11: Write a program that prompts the user to enter a temperature in Fahrenheit, and reports the equivalent temperature in Celsius. Answer to this question includes program + comments that document process and explain your code.\n"
      ],
      "metadata": {
        "id": "3PyhOu0GIpXe"
      }
    },
    {
      "cell_type": "markdown",
      "source": [
        "# Final Application Questions"
      ],
      "metadata": {
        "id": "LS4HCq4SIqkx"
      }
    },
    {
      "cell_type": "markdown",
      "source": [
        "### ASCII Art\n",
        "\n",
        "\"ASCII art is a graphic design technique that uses computers for presentation and consists of pictures pieced together from the 95 printable (from a total of 128) characters defined by the ASCII Standard\" ([Wikipedia, \"ASCII art\"](https://en.wikipedia.org/wiki/ASCII_art))\n",
        "\n",
        "An example of ASCII art output:\n",
        "\n",
        "```\n",
        "           * *\n",
        "          *   *\n",
        "           * *\n",
        "            *\n",
        "          * * *\n",
        "         *  *  *\n",
        "        *   *   *\n",
        "            *\n",
        "          *   *\n",
        "         *     *\n",
        "        *       *\n",
        "       *         *\n",
        "      *           *\n",
        "```\n",
        "\n",
        "One option to create this output in Python is to use multiple print statements:"
      ],
      "metadata": {
        "id": "m34Ymv_FIseo"
      }
    },
    {
      "cell_type": "code",
      "source": [
        "print(\"     * *\")\n",
        "print(\"    *   *\")\n",
        "print(\"     * *\")\n",
        "print(\"      *\")\n",
        "print(\"    * * *\")\n",
        "print(\"   *  *  *\")\n",
        "print(\"  *   *   *\")\n",
        "print(\"      *\")\n",
        "print(\"    *   *\")\n",
        "print(\"   *     *\")\n",
        "print(\"  *       *\")\n",
        "print(\" *         *\")\n",
        "print(\"*           *\")"
      ],
      "metadata": {
        "id": "C9EAqb02Itr_"
      },
      "execution_count": null,
      "outputs": []
    },
    {
      "cell_type": "markdown",
      "source": [
        "Q12: Write a program that creates your own ASCII art. You're welcome to consult the [ASCII Art Archive](https://www.asciiart.eu/) for inspiration. Answer to this question includes program + comments that document process and explain your code.\n"
      ],
      "metadata": {
        "id": "WoTKEoQmIvF4"
      }
    },
    {
      "cell_type": "markdown",
      "source": [
        "### Calculating Change\n",
        "\n",
        "Q13: Write a program that asks the user to input the amount of change your program is to make, and then compute the number of quarters, dimes, nickels, and pennies that produces the correct change with the fewest coins possible. Answer to this question includes program + comments that document process and explain your code.\n",
        "\n",
        "In U.S. currency, one dollar ($1.00) equals one hundred (100) cents. The coins used to make change have a face value in cents.\n",
        "\n",
        "- Quarter = 25 cents\n",
        "- Dime = 10 cents\n",
        "- Nickel = 5 cents\n",
        "- Penny = 1 cent\n"
      ],
      "metadata": {
        "id": "dRGJakt3IweC"
      }
    },
    {
      "cell_type": "markdown",
      "source": [
        "# How to submit this lab (and show your work)\n",
        "\n",
        "Moving forward, lab notebooks will be submitted as `.py` files. \n",
        "\n",
        "One option is to have a `.py` file that you use to run code and test programs while working through the lab. When ready to submit the lab notebook, you add comments and remove extraneous materials.\n",
        "\n",
        "Another option is to have an \"official\" `.py` file that you are using as a lab notebook (separate from your working/testing file). Use comments in Python to note when you are starting a new question (as well as answering a question).\n",
        "- Example: `Lab5_Notebook_Walden.py`\n",
        "\n",
        "What gets submitted as the lab notebook is the `Lab5_Notebook_Walden.py` file.\n",
        "- When in doubt, use comments\n",
        "- Be sure you are using comments to note what question you're responding to"
      ],
      "metadata": {
        "id": "Vt5s5vf2IyIC"
      }
    },
    {
      "cell_type": "markdown",
      "source": [
        "# Lab Notebook Questions\n",
        "\n",
        "Lab notebook template: [Jupyter Notebook, `.ipynb`](https://colab.research.google.com/drive/1xnnZnnab03qHwTPQR5pGv39XsNlaOYpA?usp=sharing) (Google Colab, ND users)\n",
        "\n",
        "Q1: Create a named variable for each of the following data types.\n",
        "- Integer\n",
        "- Float\n",
        "- String\n",
        "- Boolean\n",
        "\n",
        "Show the value of each variable using `print()` and check the type of each variable using `type()`.\n",
        "\n",
        "Answer to this question includes program + comments that document process and explain your code.\n",
        "\n",
        "Q2: Write programs (or a single program) that use each of the following arithmetic operators.\n",
        "- Addition\n",
        "- Subtraction\n",
        "- Multiplication\n",
        "- Division\n",
        "- Modulus\n",
        "- Exponents\n",
        "\n",
        "You can write separate calculations with single operators, or calculations that use multiple operators.\n",
        "\n",
        "Answer to this question includes program + comments that document process and explain your code.\n",
        "\n",
        "Q3: Write a program that uses arithmetic operators to convert a specific Farenheit temperature value and output its Celsius representation. Answer to this question includes program + comments that document process and explain your code.\n",
        "\n",
        "<blockquote>The conversion equation is: <code>celsius = (fahrenheit - 32.0) * 5.0 / 9.0</code></blockquote>\n",
        "\n",
        "Q4: Write a program that calculates the fewest number of U.S. coins needed to make change for a 73 cent remainder. To put that another way- write a program that determines the smallest number of coins in each U.S. denomination needed to make up 73 cents. Answer to this question includes program + comments that document process and explain your code.\n",
        "\n",
        "In U.S. currency, one dollar ($1.00) equals one hundred (100) cents. The coins used to make change have a face value in cents.\n",
        "\n",
        "- Quarter = 25 cents\n",
        "- Dime = 10 cents\n",
        "- Nickel = 5 cents\n",
        "- Penny = 1 cent\n",
        "\n",
        "Q5: Create variables for each of the discrete pieces of information in \"the standard Notre Dame introduction.\"\n",
        "- Name\n",
        "- Class year\n",
        "- Home state/country\n",
        "- Major(s) / minor(s)\n",
        "- Residence hall\n",
        "\n",
        "Use concatenation in combination with a `print()` statement to output a narrative introduction using the named variables.\n",
        "\n",
        "Answer to this question includes program + comments that document process and explain your code.\n",
        "\n",
        "Sample output for this program:\n",
        "```\n",
        "I'm Knute Rockne, class of 1914. I'm majoring in pharmacy and originally from Norway but grew up in Chicago. I live in Sorin Hall.\n",
        "```\n",
        "\n",
        "Q6: Write a program that creates `first_name` and `last_name` variables, and then uses concatenation to output a `full_name` variable. Answer to this question includes program + comments that document process and explain your code.\n",
        "\n",
        "Q7: Write a program that asks the user to enter their favorite color, and then prints a `\"Your favorite color is...\"` message. Answer to this question includes program + comments that document process and explain your code.\n",
        "\n",
        "Q8: Write a program that accepts user input for the discrete pieces of information in \"the standard Notre Dame introduction.\"\n",
        "- Name\n",
        "- Class year\n",
        "- Home state/country\n",
        "- Major(s) / minor(s)\n",
        "- Residence hall\n",
        "\n",
        "Use concatenation in combination with a `print()` statement to output a narrative introduction using the named variables.\n",
        "\n",
        "Answer to this question includes program + comments that document process and explain your code.\n",
        "\n",
        "Sample output for this program:\n",
        "```\n",
        "Knute Rockne, class of 1918, is majoring in pharmacy. He is originally from Norway but grew up in Chicago. He lives in Sorin Hall.\n",
        "```\n",
        "\n",
        "Q9: Write a program that prompts the user to enter two numbers, converts the input values to integers, adds them, and reports the result. Answer to this question includes program + comments that document process and explain your code.\n",
        "\n",
        "Q10: Write a program that asks the user to think of a month and then enter the number of days in that month. Your program should then compute the number of minutes in the month, and report the result. Answer to this question includes program + comments that document process and explain your code.\n",
        "\n",
        "Q11: Write a program that prompts the user to enter a temperature in Fahrenheit, and reports the equivalent temperature in Celsius. Answer to this question includes program + comments that document process and explain your code.\n",
        "\n",
        "Q12: Write a program that creates your own ASCII art. You're welcome to consult the [ASCII Art Archive](https://www.asciiart.eu/) for inspiration. Answer to this question includes program + comments that document process and explain your code.\n",
        "\n",
        "Q13: Write a program that asks the user to input the amount of change your program is to make, and then compute the number of quarters, dimes, nickels, and pennies that produces the correct change with the fewest coins possible. Answer to this question includes program + comments that document process and explain your code."
      ],
      "metadata": {
        "id": "j5ZXUWZYI038"
      }
    }
  ]
}