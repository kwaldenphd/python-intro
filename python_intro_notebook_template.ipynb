{
  "nbformat": 4,
  "nbformat_minor": 0,
  "metadata": {
    "colab": {
      "name": "python-intro-notebook-template.ipynb",
      "provenance": [],
      "authorship_tag": "ABX9TyOAWDjPGdKVcQFfDUx/mqb/",
      "include_colab_link": true
    },
    "kernelspec": {
      "name": "python3",
      "display_name": "Python 3"
    },
    "language_info": {
      "name": "python"
    }
  },
  "cells": [
    {
      "cell_type": "markdown",
      "metadata": {
        "id": "view-in-github",
        "colab_type": "text"
      },
      "source": [
        "<a href=\"https://colab.research.google.com/github/kwaldenphd/python-intro/blob/master/python_intro_notebook_template.ipynb\" target=\"_parent\"><img src=\"https://colab.research.google.com/assets/colab-badge.svg\" alt=\"Open In Colab\"/></a>"
      ]
    },
    {
      "cell_type": "markdown",
      "source": [
        "# Getting Started in Python\n",
        "\n",
        "Student name(s): **Enter your name here** (double click to edit)"
      ],
      "metadata": {
        "id": "cCPjTHZS4udx"
      }
    },
    {
      "cell_type": "markdown",
      "source": [
        "## Lab Notebook Questions"
      ],
      "metadata": {
        "id": "YMLv_23-ZQ56"
      }
    },
    {
      "cell_type": "markdown",
      "source": [
        "### **Q1: In your own words, explain the difference between the `print(hello)` command and `print(“hello”)`.**"
      ],
      "metadata": {
        "id": "TU8VdOenZTLj"
      }
    },
    {
      "cell_type": "markdown",
      "source": [
        "**Answer Q1:** Your answer here (double click to edit)\n",
        "\n"
      ],
      "metadata": {
        "id": "ZRftVHWIWMrC"
      }
    },
    {
      "cell_type": "code",
      "source": [
        "# space for Q1 code (if needed, double click to edit)"
      ],
      "metadata": {
        "id": "dVk8oZzhXy4f"
      },
      "execution_count": null,
      "outputs": []
    },
    {
      "cell_type": "markdown",
      "source": [
        "### **Q2: Create your own list of numbers or strings, using the examples in the lab as a starting point. What is the number position for each of the items in your list? How would you return the value of the first item? How would you return the value of the last item?**"
      ],
      "metadata": {
        "id": "wi8wDdoK5Lny"
      }
    },
    {
      "cell_type": "markdown",
      "source": [
        "**Answer Q2:** Your answer here (double click to edit)\n",
        "\n"
      ],
      "metadata": {
        "id": "WOQNw6gR5PYA"
      }
    },
    {
      "cell_type": "code",
      "source": [
        "# space for Q2 code (double click to edit)"
      ],
      "metadata": {
        "id": "A7mqUC6Q5R6Z"
      },
      "execution_count": null,
      "outputs": []
    },
    {
      "cell_type": "markdown",
      "source": [
        "### **Q3: In your own words, what is iteration?**"
      ],
      "metadata": {
        "id": "XMLlo5eQ5Vs0"
      }
    },
    {
      "cell_type": "markdown",
      "source": [
        "**Answer Q3:** Your answer here (double click to edit)\n",
        "\n"
      ],
      "metadata": {
        "id": "50Tj8PK05WZk"
      }
    },
    {
      "cell_type": "code",
      "source": [
        "# space for Q3 code (double click to edit)"
      ],
      "metadata": {
        "id": "UM0e2ArC5XOO"
      },
      "execution_count": null,
      "outputs": []
    },
    {
      "cell_type": "markdown",
      "source": [
        "### **Q4: In your own words, what is the difference between a `for` loop and a `while` loop?**"
      ],
      "metadata": {
        "id": "iaqOqUUk5fUo"
      }
    },
    {
      "cell_type": "markdown",
      "source": [
        "**Answer Q4:** Your answer here (double click to edit)\n",
        "\n"
      ],
      "metadata": {
        "id": "nKgHLXGG5f6u"
      }
    },
    {
      "cell_type": "code",
      "source": [
        "# space for Q4 code (if needed, double click to edit)"
      ],
      "metadata": {
        "id": "BYRd09Sc5gaf"
      },
      "execution_count": null,
      "outputs": []
    },
    {
      "cell_type": "markdown",
      "source": [
        "### **Q5: For each concept, describe in your own words and provide an example using Python syntax. Use comments/narrative text to note each part of your answer.**\n",
        "- `print()` statement\n",
        "- string variable\n",
        "- integer variable\n",
        "- concatenation\n",
        "- arithmetic operators\n",
        "- comparison operators\n",
        "- dictionary\n",
        "- `if, else, elif` statements\n",
        "- `for` loop\n",
        "- `while` loop\n",
        "\n",
        "Placeholder markdown and code cells for each concept are included below. You can modify or add cells as needed."
      ],
      "metadata": {
        "id": "rSBBTMKK5pnn"
      }
    },
    {
      "cell_type": "markdown",
      "source": [
        "**Print statement description**: Double click to edit"
      ],
      "metadata": {
        "id": "7r2gSavDYR4j"
      }
    },
    {
      "cell_type": "code",
      "source": [
        "# print statement"
      ],
      "metadata": {
        "id": "k7QAuLOt53Tm"
      },
      "execution_count": null,
      "outputs": []
    },
    {
      "cell_type": "markdown",
      "source": [
        "**String variable description**: Double click to edit"
      ],
      "metadata": {
        "id": "TfQ2dFjcYXH2"
      }
    },
    {
      "cell_type": "code",
      "source": [
        "# string variable"
      ],
      "metadata": {
        "id": "2RO64TypX6jl"
      },
      "execution_count": null,
      "outputs": []
    },
    {
      "cell_type": "markdown",
      "source": [
        "**Integer variable description**: Double click to edit"
      ],
      "metadata": {
        "id": "h01UBPGCYaZK"
      }
    },
    {
      "cell_type": "code",
      "source": [
        "# integer variable"
      ],
      "metadata": {
        "id": "xJL5vVsBX7yc"
      },
      "execution_count": null,
      "outputs": []
    },
    {
      "cell_type": "markdown",
      "source": [
        "**Concatenation description**: Double click to edit"
      ],
      "metadata": {
        "id": "CoGo9swxYdnb"
      }
    },
    {
      "cell_type": "code",
      "source": [
        "# concatenation"
      ],
      "metadata": {
        "id": "eBwu2peBX81T"
      },
      "execution_count": null,
      "outputs": []
    },
    {
      "cell_type": "markdown",
      "source": [
        "**Arithmetic operators description**: Double click to edit"
      ],
      "metadata": {
        "id": "fDzpjoIAYfMD"
      }
    },
    {
      "cell_type": "code",
      "source": [
        "# arithmetic operators"
      ],
      "metadata": {
        "id": "_qSlteD9X92O"
      },
      "execution_count": null,
      "outputs": []
    },
    {
      "cell_type": "markdown",
      "source": [
        "**Comparison operators description**: Double click to edit"
      ],
      "metadata": {
        "id": "Em01G3AyYhQm"
      }
    },
    {
      "cell_type": "code",
      "source": [
        "# comparison operators"
      ],
      "metadata": {
        "id": "g84Gt0-nX-1D"
      },
      "execution_count": null,
      "outputs": []
    },
    {
      "cell_type": "markdown",
      "source": [
        "**Dictionary description**: Double click to edit"
      ],
      "metadata": {
        "id": "7D3Atkk1YkZ-"
      }
    },
    {
      "cell_type": "code",
      "source": [
        "# dictionary"
      ],
      "metadata": {
        "id": "3gA-HeSNYAWB"
      },
      "execution_count": null,
      "outputs": []
    },
    {
      "cell_type": "markdown",
      "source": [
        "**If, elise, elif statements**: Double click to edit"
      ],
      "metadata": {
        "id": "XlpyVJXaYlpB"
      }
    },
    {
      "cell_type": "code",
      "source": [
        "# if, else, elif statements"
      ],
      "metadata": {
        "id": "VkKcYlCmYA56"
      },
      "execution_count": null,
      "outputs": []
    },
    {
      "cell_type": "markdown",
      "source": [
        "**For loop description**: Double click to edit"
      ],
      "metadata": {
        "id": "7_Cr8Y8QYpl1"
      }
    },
    {
      "cell_type": "code",
      "source": [
        "# for loop"
      ],
      "metadata": {
        "id": "SgoaN4q-YCOl"
      },
      "execution_count": null,
      "outputs": []
    },
    {
      "cell_type": "markdown",
      "source": [
        "**While loop description**: Double click to edit"
      ],
      "metadata": {
        "id": "Y3czGsWGYsfx"
      }
    },
    {
      "cell_type": "code",
      "source": [
        "# while loop"
      ],
      "metadata": {
        "id": "kBFiDGOjYC4B"
      },
      "execution_count": null,
      "outputs": []
    }
  ]
}